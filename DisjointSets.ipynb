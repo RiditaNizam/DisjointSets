{
  "nbformat": 4,
  "nbformat_minor": 0,
  "metadata": {
    "colab": {
      "name": "DisjointSets.ipynb",
      "provenance": [],
      "collapsed_sections": [],
      "authorship_tag": "ABX9TyMWqYGKrvbh+k7DG7cCrlNA",
      "include_colab_link": true
    },
    "kernelspec": {
      "name": "python3",
      "display_name": "Python 3"
    },
    "language_info": {
      "name": "python"
    }
  },
  "cells": [
    {
      "cell_type": "markdown",
      "metadata": {
        "id": "view-in-github",
        "colab_type": "text"
      },
      "source": [
        "<a href=\"https://colab.research.google.com/github/RiditaNizam/DisjointSets/blob/main/DisjointSets.ipynb\" target=\"_parent\"><img src=\"https://colab.research.google.com/assets/colab-badge.svg\" alt=\"Open In Colab\"/></a>"
      ]
    },
    {
      "cell_type": "code",
      "metadata": {
        "colab": {
          "base_uri": "https://localhost:8080/"
        },
        "id": "0oJ6UnESDXBv",
        "outputId": "d08e4e1f-ec8d-4607-cb83-e81ffdafc385"
      },
      "source": [
        "group1 = {\"Coral\", \"White\", \"Peach\"}\n",
        "group2 = {\"Lavender\", \"White\"}\n",
        "group3 = {\"Coral\", \"White\"}\n",
        "\n",
        "disjointed = group1.isdisjoint(group2)\n",
        "print(\"The two sets DON'T have elements in common:\", disjointed)"
      ],
      "execution_count": 18,
      "outputs": [
        {
          "output_type": "stream",
          "text": [
            "The two sets DON'T have elements in common: False\n"
          ],
          "name": "stdout"
        }
      ]
    }
  ]
}